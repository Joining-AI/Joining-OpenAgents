{
 "cells": [
  {
   "cell_type": "code",
   "execution_count": 4,
   "metadata": {},
   "outputs": [
    {
     "name": "stderr",
     "output_type": "stream",
     "text": [
      "100%|█████████████████████████████████████| 2.88G/2.88G [03:02<00:00, 16.9MiB/s]\n"
     ]
    },
    {
     "name": "stdout",
     "output_type": "stream",
     "text": [
      "模型加载完成。\n"
     ]
    }
   ],
   "source": [
    "import os\n",
    "import json\n",
    "from dotenv import load_dotenv\n",
    "from LLM_API import AuthenticatedRequestSender\n",
    "from LLM_API import OpenAIService\n",
    "from FileProcess import FileProcessor\n",
    "from Memory import Embedding, LocalMemory\n",
    "from Chat import JoiningChat\n",
    "from WebExecuter import WebSearch\n",
    "from FileProcess import CodeAnalyser\n",
    "from Tools import FunctionManager\n",
    "import re\n",
    "import importlib\n",
    "import sounddevice as sd\n",
    "import numpy as np\n",
    "import scipy.io.wavfile as wav\n",
    "import os\n",
    "import whisper\n",
    "\n",
    "analyser=CodeAnalyser()\n",
    "\n",
    "dotenv_path = os.path.join(os.getcwd(), '.env')\n",
    "root_path = dotenv_path.rstrip('.env')\n",
    "load_dotenv(dotenv_path)\n",
    "\n",
    "temp_sound_dir = os.path.join(root_path, \"TempSound\")\n",
    "if not os.path.exists(temp_sound_dir):\n",
    "    os.makedirs(temp_sound_dir)\n",
    "\n",
    "# 录音文件路径\n",
    "audio_file_path = os.path.join(temp_sound_dir, \"temp_recording.wav\")\n",
    "\n",
    "# 预先加载Whisper模型\n",
    "print(\"正在加载模型，请稍候...\")\n",
    "model = whisper.load_model(\"large\")\n",
    "print(\"模型加载完成。\")\n",
    "\n",
    "fileprocessor=FileProcessor(root_path)\n",
    "\n",
    "project_root = root_path\n",
    "function_manager = FunctionManager(project_root, service_type='sensetime')\n",
    "service_type = 'sensetime'"
   ]
  },
  {
   "cell_type": "code",
   "execution_count": 9,
   "metadata": {},
   "outputs": [
    {
     "name": "stdout",
     "output_type": "stream",
     "text": [
      "按回车开始录音，再次按回车结束录音。\n",
      "正在录音...按回车键结束。\n",
      "录音结束。\n",
      "我想知道前200个斐波那奇数和素数的和\n"
     ]
    }
   ],
   "source": [
    "def record_audio(file_path, fs=44100, channels=2):\n",
    "    print(\"按回车开始录音，再次按回车结束录音。\")\n",
    "    input()  # 等待回车键开始\n",
    "    \n",
    "    # 准备录音\n",
    "    recording = []\n",
    "    def callback(indata, frames, time, status):\n",
    "        # 将录音数据实时添加到列表中\n",
    "        recording.append(indata.copy())\n",
    "\n",
    "    # 开始录音\n",
    "    print(\"正在录音...按回车键结束。\")\n",
    "    with sd.InputStream(callback=callback, samplerate=fs, channels=channels):\n",
    "        input()  # 再次等待回车键结束录音\n",
    "    \n",
    "    print(\"录音结束。\")\n",
    "\n",
    "    # 将录音数据转换为NumPy数组，并保存为WAV文件\n",
    "    recording_array = np.concatenate(recording, axis=0)\n",
    "    wav.write(file_path, fs, np.int16(recording_array * 32767))\n",
    "    \n",
    "def transcribe_audio(model, file_path):\n",
    "    # 使用预先加载的Whisper模型进行语音识别\n",
    "    result = model.transcribe(file_path)\n",
    "    return result[\"text\"]\n",
    "    \n",
    "record_audio(audio_file_path)\n",
    "question=transcribe_audio(model, audio_file_path)\n",
    "print(question)"
   ]
  },
  {
   "cell_type": "code",
   "execution_count": 10,
   "metadata": {},
   "outputs": [
    {
     "name": "stdout",
     "output_type": "stream",
     "text": [
      "[系统]: 对话已命名为 '```python\n",
      "from Tools.tools import prime_fib_sum\n",
      "\n",
      "# 调用prime_fib_sum函数，计算前200个斐波那奇数和素数的和\n",
      "result = prime_fib_sum(200)\n",
      "\n",
      "# 将使用的函数名称赋值给used_function_name变量\n",
      "used_function_name = 'prime_fib_sum'\n",
      "```' 并保存。\n",
      "```python\n",
      "from Tools.tools import prime_fib_sum\n",
      "\n",
      "# 调用prime_fib_sum函数，计算前200个斐波那奇数和素数的和\n",
      "result = prime_fib_sum(200)\n",
      "\n",
      "# 将使用的函数名称赋值给used_function_name变量\n",
      "used_function_name = 'prime_fib_sum'\n",
      "```\n",
      "在这段代码中，我们首先导入了`Tools.tools`模块中的`prime_fib_sum`函数。然后，我们调用该函数，并将结果赋值给`result`变量。最后，我们将使用的函数名称赋值给`used_function_name`变量。\n",
      "Execution result: {'function_name': 'prime_fib_sum', 'result': 453973694165307953197296969697410619345412}\n"
     ]
    }
   ],
   "source": [
    "chat = JoiningChat(service_type=service_type, root_path=root_path)\n",
    "\n",
    "ask = f\"Based on the following function descriptions: '{function_manager.functions_info}', could you demonstrate how to address '{question}'? Please include a specific code snippet that performs this operation, assigns the result to a variable named 'result', and also assigns the name of the used function to a variable named 'used_function_name'. It is highly recommended to enclose your code within triple backticks and specify 'python' as the language, like so: ```python\\n# Your code here\\nresult = <operation>\\nused_function_name = '<function_name>'\\n```. This formatting helps ensure that your code can be correctly identified and processed.\"\n",
    "answer=chat.process_input(ask)\n",
    "print(answer)\n",
    "# 使用正则表达式提取代码段\n",
    "pattern = r\"```python\\n(.*?)\\n```\"\n",
    "match = re.search(pattern, answer, re.DOTALL)\n",
    "\n",
    "if match:\n",
    "    original_code = match.group(1)\n",
    "    code_string = re.sub(r\"from [\\w\\.]+ import [\\w\\, ]+|import [\\w\\.]+\", \"\", original_code, flags=re.MULTILINE)\n",
    "\n",
    "    # 使用正则表达式提取需要导入的模块名称\n",
    "    modules_to_import = ['Tools.tools']\n",
    "\n",
    "    # 准备安全环境\n",
    "    safe_globals = {\n",
    "        \"print\": print,\n",
    "        \"__builtins__\": {\"print\": print, \"range\": range},\n",
    "    }\n",
    "    \n",
    "    def import_dependencies(dependencies, module):\n",
    "        \"\"\"\n",
    "        导入函数的依赖。\n",
    "        \"\"\"\n",
    "        for dep in dependencies:\n",
    "            # 假设依赖的函数在同一个模块中\n",
    "            if hasattr(module, dep):\n",
    "                safe_globals[dep] = getattr(module, dep)\n",
    "    # 动态导入模块并将函数添加到 safe_globals 中\n",
    "    for function in function_manager.functions_info['functions']:\n",
    "        file_path = function['file_path'].replace('\\\\', '.')  # 将文件路径转换为模块路径\n",
    "        module_path = re.sub(r'\\.py$', '', file_path)  # 移除.py扩展名\n",
    "        module = importlib.import_module(module_path)  # 动态导入模块\n",
    "\n",
    "        # 获取函数并添加到safe_globals\n",
    "        func = getattr(module, function['name'])\n",
    "        safe_globals[function['name']] = func\n",
    "        \n",
    "    # 导入函数的依赖\n",
    "    if function['dependencies']:\n",
    "        import_dependencies(function['dependencies'], module)\n",
    "    # 执行代码\n",
    "    try:\n",
    "        exec(code_string, safe_globals)\n",
    "        if 'result' in safe_globals and 'used_function_name' in safe_globals:\n",
    "            execution_result = {\"function_name\": safe_globals['used_function_name'], \"result\": safe_globals['result']}\n",
    "            print(\"Execution result:\", execution_result)\n",
    "        else:\n",
    "            print(\"No result or used function name variable found in executed code.\")\n",
    "    except Exception as e:\n",
    "        print(\"Error executing code:\", e)\n",
    "\n",
    "else:\n",
    "    print(\"No code found.\")"
   ]
  },
  {
   "cell_type": "code",
   "execution_count": 11,
   "metadata": {},
   "outputs": [
    {
     "data": {
      "text/plain": [
       "453973694165307953197296969697410619345412"
      ]
     },
     "execution_count": 11,
     "metadata": {},
     "output_type": "execute_result"
    }
   ],
   "source": [
    "def prime_fib_sum(n):\n",
    "    def is_prime(num):\n",
    "        if num <= 1:\n",
    "            return False\n",
    "        for i in range(2, int(num**0.5) + 1):\n",
    "            if num % i == 0:\n",
    "                return False\n",
    "        return True\n",
    "\n",
    "    count, num, sum_primes = 0, 2, 0\n",
    "    while count < n:\n",
    "        if is_prime(num):\n",
    "            sum_primes += num\n",
    "            count += 1\n",
    "        num += 1\n",
    "\n",
    "    if n <= 0:\n",
    "        sum_fibs = 0\n",
    "    else:\n",
    "        fib1, fib2 = 0, 1\n",
    "        sum_fibs = fib1 + fib2\n",
    "        for _ in range(2, n):\n",
    "            fib_next = fib1 + fib2\n",
    "            sum_fibs += fib_next\n",
    "            fib1, fib2 = fib2, fib_next\n",
    "\n",
    "    return sum_primes + sum_fibs\n",
    "prime_fib_sum(200)"
   ]
  }
 ],
 "metadata": {
  "kernelspec": {
   "display_name": "Python 3",
   "language": "python",
   "name": "python3"
  },
  "language_info": {
   "codemirror_mode": {
    "name": "ipython",
    "version": 3
   },
   "file_extension": ".py",
   "mimetype": "text/x-python",
   "name": "python",
   "nbconvert_exporter": "python",
   "pygments_lexer": "ipython3",
   "version": "3.10.11"
  }
 },
 "nbformat": 4,
 "nbformat_minor": 2
}
