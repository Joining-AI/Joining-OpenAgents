{
 "cells": [
  {
   "cell_type": "code",
   "execution_count": 1,
   "metadata": {},
   "outputs": [
    {
     "data": {
      "text/plain": [
       "{'functions': [{'name': 'sum',\n",
       "   'description': \"The function 'sum' takes two arguments, 'a' and 'b', and returns their sum. It is designed to perform basic arithmetic operations and can be used in a variety of contexts where numerical values need to be added together.\",\n",
       "   'input': ['a', 'b'],\n",
       "   'output': \"BinOp(left=Name(id='a', ctx=Load()), op=Add(), right=Name(id='b', ctx=Load()))\",\n",
       "   'file_path': 'Tools\\\\tools.py',\n",
       "   'dependencies': []},\n",
       "  {'name': 'prime_fib_sum',\n",
       "   'description': '这个函数的功能是计算前n个素数之和与前n个斐波那契数之和，并返回两者的总和。首先，它定义了一个辅助函数is_prime来判断一个数是否为素数。然后，通过循环遍历，累加前n个素数的值，同时也累加前n个斐波那契数的值。最后，返回两者的总和。如果输入的n小于等于0，则返回0作为结果。',\n",
       "   'input': ['n'],\n",
       "   'output': \"BinOp(left=Name(id='sum_primes', ctx=Load()), op=Add(), right=Name(id='sum_fibs', ctx=Load()))\",\n",
       "   'file_path': 'Tools\\\\tools.py',\n",
       "   'dependencies': []}]}"
      ]
     },
     "execution_count": 1,
     "metadata": {},
     "output_type": "execute_result"
    }
   ],
   "source": [
    "import os\n",
    "import json\n",
    "from dotenv import load_dotenv\n",
    "from LLM_API import AuthenticatedRequestSender\n",
    "from LLM_API import OpenAIService\n",
    "from FileProcess import FileProcessor\n",
    "from Memory import Embedding, LocalMemory\n",
    "from Chat import JoiningChat\n",
    "from WebExecuter import WebSearch\n",
    "from FileProcess import CodeAnalyser\n",
    "from Tools import FunctionManager\n",
    "\n",
    "analyser=CodeAnalyser()\n",
    "\n",
    "dotenv_path = os.path.join(os.getcwd(), '.env')\n",
    "root_path = dotenv_path.rstrip('.env')\n",
    "load_dotenv(dotenv_path)\n",
    "\n",
    "fileprocessor=FileProcessor(root_path)\n",
    "\n",
    "project_root = root_path\n",
    "function_manager = FunctionManager(project_root, service_type='sensetime')"
   ]
  },
  {
   "cell_type": "code",
   "execution_count": 1,
   "metadata": {},
   "outputs": [
    {
     "name": "stdout",
     "output_type": "stream",
     "text": [
      "Looking in indexes: https://pypi.tuna.tsinghua.edu.cn/simple\n",
      "Requirement already satisfied: prettytable in d:\\wpsystem\\s-1-5-21-3475500238-1549178555-3074547005-1001\\appdata\\local\\packages\\pythonsoftwarefoundation.python.3.10_qbz5n2kfra8p0\\localcache\\local-packages\\python310\\site-packages (3.6.0)\n",
      "Requirement already satisfied: wcwidth in d:\\wpsystem\\s-1-5-21-3475500238-1549178555-3074547005-1001\\appdata\\local\\packages\\pythonsoftwarefoundation.python.3.10_qbz5n2kfra8p0\\localcache\\local-packages\\python310\\site-packages (from prettytable) (0.2.5)\n",
      "Note: you may need to restart the kernel to use updated packages.\n"
     ]
    }
   ],
   "source": [
    "pip install prettytable\n"
   ]
  },
  {
   "cell_type": "code",
   "execution_count": 2,
   "metadata": {},
   "outputs": [],
   "source": [
    "from prettytable import PrettyTable\n"
   ]
  },
  {
   "cell_type": "code",
   "execution_count": 2,
   "metadata": {},
   "outputs": [
    {
     "name": "stdout",
     "output_type": "stream",
     "text": [
      "{'functions': [{'name': 'sum', 'description': \"The function 'sum' takes two arguments, 'a' and 'b', and returns their sum. It is designed to perform basic arithmetic operations and can be used in a variety of contexts where numerical values need to be added together.\", 'input': ['a', 'b'], 'output': \"BinOp(left=Name(id='a', ctx=Load()), op=Add(), right=Name(id='b', ctx=Load()))\", 'file_path': 'Tools\\\\tools.py', 'dependencies': []}, {'name': 'prime_fib_sum', 'description': '这个函数的功能是计算前n个素数之和与前n个斐波那契数之和，并返回两者的总和。首先，它定义了一个辅助函数is_prime来判断一个数是否为素数。然后，通过循环遍历，累加前n个素数的值，同时也累加前n个斐波那契数的值。最后，返回两者的总和。如果输入的n小于等于0，则返回0作为结果。', 'input': ['n'], 'output': \"BinOp(left=Name(id='sum_primes', ctx=Load()), op=Add(), right=Name(id='sum_fibs', ctx=Load()))\", 'file_path': 'Tools\\\\tools.py', 'dependencies': []}]}\n",
      "Based on the following function descriptions: '{'functions': [{'name': 'sum', 'description': \"The function 'sum' takes two arguments, 'a' and 'b', and returns their sum. It is designed to perform basic arithmetic operations and can be used in a variety of contexts where numerical values need to be added together.\", 'input': ['a', 'b'], 'output': \"BinOp(left=Name(id='a', ctx=Load()), op=Add(), right=Name(id='b', ctx=Load()))\", 'file_path': 'Tools\\\\tools.py', 'dependencies': []}, {'name': 'prime_fib_sum', 'description': '这个函数的功能是计算前n个素数之和与前n个斐波那契数之和，并返回两者的总和。首先，它定义了一个辅助函数is_prime来判断一个数是否为素数。然后，通过循环遍历，累加前n个素数的值，同时也累加前n个斐波那契数的值。最后，返回两者的总和。如果输入的n小于等于0，则返回0作为结果。', 'input': ['n'], 'output': \"BinOp(left=Name(id='sum_primes', ctx=Load()), op=Add(), right=Name(id='sum_fibs', ctx=Load()))\", 'file_path': 'Tools\\\\tools.py', 'dependencies': []}]}', could you demonstrate how to address 'What is the sum of 3+5?'? Please include a specific code snippet that performs this operation. It is highly recommended to enclose your code within triple backticks and specify 'python' as the language, like so: ```python\n",
      "# Your code here\n",
      "```. This formatting helps ensure that your code can be correctly identified and processed.\n"
     ]
    }
   ],
   "source": [
    "import re\n",
    "\n",
    "question = \"What is the sum of 3+5?\"\n",
    "print(function_manager.functions_info)\n",
    "ask = f\"Based on the following function descriptions: '{function_manager.functions_info}', could you demonstrate how to address '{question}'? Please include a specific code snippet that performs this operation. It is highly recommended to enclose your code within triple backticks and specify 'python' as the language, like so: ```python\\n# Your code here\\n```. This formatting helps ensure that your code can be correctly identified and processed.\"\n",
    "print(ask)"
   ]
  },
  {
   "cell_type": "code",
   "execution_count": 5,
   "metadata": {},
   "outputs": [
    {
     "name": "stdout",
     "output_type": "stream",
     "text": [
      "[系统]: 对话已命名为 '```python\n",
      "from Tools.tools import sum\n",
      "result = sum(3, 5)\n",
      "used_function_name = 'sum'\n",
      "```' 并保存。\n",
      "Execution result: {'function_name': 'sum', 'result': 8}\n"
     ]
    }
   ],
   "source": [
    "import re\n",
    "import importlib\n",
    "import os\n",
    "import json\n",
    "from dotenv import load_dotenv\n",
    "from LLM_API import AuthenticatedRequestSender\n",
    "from LLM_API import OpenAIService\n",
    "from FileProcess import FileProcessor\n",
    "from Memory import Embedding, LocalMemory\n",
    "from Chat import JoiningChat\n",
    "from WebExecuter import WebSearch\n",
    "from FileProcess import CodeAnalyser\n",
    "from Tools import FunctionManager\n",
    "\n",
    "analyser=CodeAnalyser()\n",
    "\n",
    "dotenv_path = os.path.join(os.getcwd(), '.env')\n",
    "root_path = dotenv_path.rstrip('.env')\n",
    "load_dotenv(dotenv_path)\n",
    "\n",
    "fileprocessor=FileProcessor(root_path)\n",
    "\n",
    "project_root = root_path\n",
    "function_manager = FunctionManager(project_root, service_type='sensetime')\n",
    "\n",
    "service_type = 'sensetime'\n",
    "chat = JoiningChat(service_type=service_type, root_path=root_path)\n",
    "question = \"What is the sum of 3+5?\"\n",
    "ask = f\"Based on the following function descriptions: '{function_manager.functions_info}', could you demonstrate how to address '{question}'? Please include a specific code snippet that performs this operation, assigns the result to a variable named 'result', and also assigns the name of the used function to a variable named 'used_function_name'. It is highly recommended to enclose your code within triple backticks and specify 'python' as the language, like so: ```python\\n# Your code here\\nresult = <operation>\\nused_function_name = '<function_name>'\\n```. This formatting helps ensure that your code can be correctly identified and processed.\"\n",
    "answer=chat.process_input(ask)\n",
    "# 使用正则表达式提取代码段\n",
    "pattern = r\"```python\\n(.*?)\\n```\"\n",
    "match = re.search(pattern, answer, re.DOTALL)\n",
    "\n",
    "if match:\n",
    "    original_code = match.group(1)\n",
    "    code_string = re.sub(r\"from [\\w\\.]+ import [\\w\\, ]+|import [\\w\\.]+\", \"\", original_code, flags=re.MULTILINE)\n",
    "\n",
    "    # 使用正则表达式提取需要导入的模块名称\n",
    "    modules_to_import = ['Tools.tools']\n",
    "\n",
    "    # 准备安全环境\n",
    "    safe_globals = {\n",
    "        \"print\": print,\n",
    "        \"__builtins__\": {\"print\": print, \"range\": range},\n",
    "    }\n",
    "    \n",
    "    def import_dependencies(dependencies, module):\n",
    "        \"\"\"\n",
    "        导入函数的依赖。\n",
    "        \"\"\"\n",
    "        for dep in dependencies:\n",
    "            # 假设依赖的函数在同一个模块中\n",
    "            if hasattr(module, dep):\n",
    "                safe_globals[dep] = getattr(module, dep)\n",
    "    # 动态导入模块并将函数添加到 safe_globals 中\n",
    "    for function in function_manager.functions_info['functions']:\n",
    "        file_path = function['file_path'].replace('\\\\', '.')  # 将文件路径转换为模块路径\n",
    "        module_path = re.sub(r'\\.py$', '', file_path)  # 移除.py扩展名\n",
    "        module = importlib.import_module(module_path)  # 动态导入模块\n",
    "\n",
    "        # 获取函数并添加到safe_globals\n",
    "        func = getattr(module, function['name'])\n",
    "        safe_globals[function['name']] = func\n",
    "        \n",
    "    # 导入函数的依赖\n",
    "    if function['dependencies']:\n",
    "        import_dependencies(function['dependencies'], module)\n",
    "    # 执行代码\n",
    "    try:\n",
    "        exec(code_string, safe_globals)\n",
    "        if 'result' in safe_globals and 'used_function_name' in safe_globals:\n",
    "            execution_result = {\"function_name\": safe_globals['used_function_name'], \"result\": safe_globals['result']}\n",
    "            print(\"Execution result:\", execution_result)\n",
    "        else:\n",
    "            print(\"No result or used function name variable found in executed code.\")\n",
    "    except Exception as e:\n",
    "        print(\"Error executing code:\", e)\n",
    "\n",
    "else:\n",
    "    print(\"No code found.\")"
   ]
  },
  {
   "cell_type": "code",
   "execution_count": null,
   "metadata": {},
   "outputs": [],
   "source": []
  },
  {
   "cell_type": "code",
   "execution_count": null,
   "metadata": {},
   "outputs": [],
   "source": [
    "service_type='sensetime'\n",
    "\n",
    "if service_type in ['sensetime', None]:\n",
    "    service = AuthenticatedRequestSender()\n",
    "elif service_type == 'openai':\n",
    "    service = OpenAIService()\n",
    "else:\n",
    "    raise ValueError('未知的服务类型')\n",
    "chat=JoiningChat(service_type, root_path)\n",
    "localmemory=LocalMemory(service_type, root_path)\n",
    "question='请问你玩原神吗'\n",
    "chat.process_input(question)"
   ]
  },
  {
   "cell_type": "code",
   "execution_count": 2,
   "metadata": {},
   "outputs": [],
   "source": [
    "project_root = root_path\n",
    "function_manager = FunctionManager(project_root, service_type='sensetime')\n",
    "function_manager.update_func_json()"
   ]
  },
  {
   "cell_type": "code",
   "execution_count": 3,
   "metadata": {},
   "outputs": [
    {
     "name": "stdout",
     "output_type": "stream",
     "text": [
      "{'functions': [{'name': 'sum', 'description': \"The function 'sum' takes two arguments, 'a' and 'b', and returns their sum.\", 'input': ['a', 'b'], 'output': \"BinOp(left=Name(id='a', ctx=Load()), op=Add(), right=Name(id='b', ctx=Load()))\", 'file_path': 'Tools\\\\functions_info.json', 'dependencies': []}]}\n"
     ]
    }
   ],
   "source": [
    "print(function_manager.functions_info)"
   ]
  },
  {
   "cell_type": "code",
   "execution_count": 13,
   "metadata": {},
   "outputs": [
    {
     "name": "stdout",
     "output_type": "stream",
     "text": [
      "Looking in indexes: https://pypi.tuna.tsinghua.edu.cn/simple\n",
      "Requirement already satisfied: scipy in d:\\wpsystem\\s-1-5-21-3475500238-1549178555-3074547005-1001\\appdata\\local\\packages\\pythonsoftwarefoundation.python.3.10_qbz5n2kfra8p0\\localcache\\local-packages\\python310\\site-packages (1.10.1)\n",
      "Requirement already satisfied: numpy<1.27.0,>=1.19.5 in d:\\wpsystem\\s-1-5-21-3475500238-1549178555-3074547005-1001\\appdata\\local\\packages\\pythonsoftwarefoundation.python.3.10_qbz5n2kfra8p0\\localcache\\local-packages\\python310\\site-packages (from scipy) (1.23.4)\n",
      "Note: you may need to restart the kernel to use updated packages.\n"
     ]
    }
   ],
   "source": [
    "pip install scipy"
   ]
  },
  {
   "cell_type": "code",
   "execution_count": 3,
   "metadata": {},
   "outputs": [
    {
     "name": "stderr",
     "output_type": "stream",
     "text": [
      "C:\\Users\\Jiaoy\\AppData\\Local\\Packages\\PythonSoftwareFoundation.Python.3.10_qbz5n2kfra8p0\\LocalCache\\local-packages\\Python310\\site-packages\\tqdm\\auto.py:21: TqdmWarning: IProgress not found. Please update jupyter and ipywidgets. See https://ipywidgets.readthedocs.io/en/stable/user_install.html\n",
      "  from .autonotebook import tqdm as notebook_tqdm\n"
     ]
    },
    {
     "name": "stdout",
     "output_type": "stream",
     "text": [
      "正在加载模型，请稍候...\n"
     ]
    },
    {
     "name": "stderr",
     "output_type": "stream",
     "text": [
      "100%|█████████████████████████████████████| 2.88G/2.88G [10:33<00:00, 4.88MiB/s]\n"
     ]
    },
    {
     "name": "stdout",
     "output_type": "stream",
     "text": [
      "模型加载完成。\n"
     ]
    }
   ],
   "source": [
    "import sounddevice as sd\n",
    "import numpy as np\n",
    "import scipy.io.wavfile as wav\n",
    "import os\n",
    "import whisper\n",
    "\n",
    "# 录音参数\n",
    "fs = 44100  # 采样率\n",
    "duration = 5  # 录音时间，秒\n",
    "channels = 2  # 通道数\n",
    "\n",
    "temp_sound_dir = os.path.join(root_path, \"TempSound\")\n",
    "if not os.path.exists(temp_sound_dir):\n",
    "    os.makedirs(temp_sound_dir)\n",
    "\n",
    "# 录音文件路径\n",
    "audio_file_path = os.path.join(temp_sound_dir, \"temp_recording.wav\")\n",
    "\n",
    "# 预先加载Whisper模型\n",
    "print(\"正在加载模型，请稍候...\")\n",
    "model = whisper.load_model(\"large\")\n",
    "print(\"模型加载完成。\")"
   ]
  },
  {
   "cell_type": "code",
   "execution_count": 7,
   "metadata": {},
   "outputs": [
    {
     "name": "stdout",
     "output_type": "stream",
     "text": [
      "按回车开始录音，再次按回车结束录音。\n",
      "正在录音...按回车键结束。\n",
      "录音结束。\n",
      "识别结果： 你好,再见\n"
     ]
    }
   ],
   "source": [
    "def record_audio(file_path, fs=44100, channels=2):\n",
    "    print(\"按回车开始录音，再次按回车结束录音。\")\n",
    "    input()  # 等待回车键开始\n",
    "    \n",
    "    # 准备录音\n",
    "    recording = []\n",
    "    def callback(indata, frames, time, status):\n",
    "        # 将录音数据实时添加到列表中\n",
    "        recording.append(indata.copy())\n",
    "\n",
    "    # 开始录音\n",
    "    print(\"正在录音...按回车键结束。\")\n",
    "    with sd.InputStream(callback=callback, samplerate=fs, channels=channels):\n",
    "        input()  # 再次等待回车键结束录音\n",
    "    \n",
    "    print(\"录音结束。\")\n",
    "\n",
    "    # 将录音数据转换为NumPy数组，并保存为WAV文件\n",
    "    recording_array = np.concatenate(recording, axis=0)\n",
    "    wav.write(file_path, fs, np.int16(recording_array * 32767))\n",
    "\n",
    "def transcribe_audio(model, file_path):\n",
    "    # 使用预先加载的Whisper模型进行语音识别\n",
    "    result = model.transcribe(file_path)\n",
    "    print(\"识别结果：\", result[\"text\"])\n",
    "\n",
    "# 实际执行录音和语音识别\n",
    "record_audio(audio_file_path)\n",
    "transcribe_audio(model, audio_file_path)\n"
   ]
  },
  {
   "cell_type": "code",
   "execution_count": null,
   "metadata": {},
   "outputs": [],
   "source": [
    "import re\n",
    "import importlib\n",
    "import os\n",
    "import json\n",
    "from dotenv import load_dotenv\n",
    "from LLM_API import AuthenticatedRequestSender\n",
    "from LLM_API import OpenAIService\n",
    "from FileProcess import FileProcessor\n",
    "from Memory import Embedding, LocalMemory\n",
    "from Chat import JoiningChat\n",
    "from WebExecuter import WebSearch\n",
    "from FileProcess import CodeAnalyser\n",
    "from Tools import FunctionManager\n",
    "\n",
    "def execute_function_from_description(question, function_manager=None, chat=None, fileprocessor=None):\n",
    "    dotenv_path = os.path.join(os.getcwd(), '.env')\n",
    "    root_path = dotenv_path.rstrip('.env')\n",
    "    load_dotenv(dotenv_path)\n",
    "\n",
    "    # 检查并初始化 FileProcessor\n",
    "    if fileprocessor is None:\n",
    "        fileprocessor = FileProcessor(root_path)\n",
    "\n",
    "    # 检查并初始化 FunctionManager\n",
    "    if function_manager is None:\n",
    "        project_root = root_path\n",
    "        service_type = 'sensetime'\n",
    "        function_manager = FunctionManager(project_root, service_type=service_type)\n",
    "\n",
    "    # 检查并初始化 JoiningChat\n",
    "    if chat is None:\n",
    "        service_type = 'sensetime'\n",
    "        chat = JoiningChat(service_type=service_type, root_path=root_path)\n",
    "\n",
    "    ask = f\"Based on the following function descriptions: '{function_manager.functions_info}', could you demonstrate how to address '{question}'? Please include a specific code snippet that performs this operation, assigns the result to a variable named 'result', and also assigns the name of the used function to a variable named 'used_function_name'.\"\n",
    "    answer = chat.process_input(ask)\n",
    "\n",
    "    pattern = r\"```python\\n(.*?)\\n```\"\n",
    "    match = re.search(pattern, answer, re.DOTALL)\n",
    "    if match:\n",
    "        original_code = match.group(1)\n",
    "        code_string = re.sub(r\"from [\\w\\.]+ import [\\w\\, ]+|import [\\w\\.]+\", \"\", original_code, flags=re.MULTILINE)\n",
    "        safe_globals = {\n",
    "            \"print\": print,\n",
    "            \"__builtins__\": {\"print\": print, \"range\": range},\n",
    "        }\n",
    "\n",
    "        for function in function_manager.functions_info['functions']:\n",
    "            file_path = function['file_path'].replace('\\\\', '.')\n",
    "            module_path = re.sub(r'\\.py$', '', file_path)\n",
    "            module = importlib.import_module(module_path)\n",
    "            func = getattr(module, function['name'])\n",
    "            safe_globals[function['name']] = func\n",
    "            if function['dependencies']:\n",
    "                for dep in function['dependencies']:\n",
    "                    if hasattr(module, dep):\n",
    "                        safe_globals[dep] = getattr(module, dep)\n",
    "\n",
    "        try:\n",
    "            exec(code_string, safe_globals)\n",
    "            if 'result' in safe_globals and 'used_function_name' in safe_globals:\n",
    "                execution_result = {\"function_name\": safe_globals['used_function_name'], \"result\": safe_globals['result']}\n",
    "                return execution_result\n",
    "            else:\n",
    "                return \"No result or used function name variable found in executed code.\"\n",
    "        except Exception as e:\n",
    "            return f\"Error executing code: {e}\"\n",
    "    else:\n",
    "        return \"No code found.\"\n"
   ]
  }
 ],
 "metadata": {
  "kernelspec": {
   "display_name": "Python 3",
   "language": "python",
   "name": "python3"
  },
  "language_info": {
   "codemirror_mode": {
    "name": "ipython",
    "version": 3
   },
   "file_extension": ".py",
   "mimetype": "text/x-python",
   "name": "python",
   "nbconvert_exporter": "python",
   "pygments_lexer": "ipython3",
   "version": "3.10.11"
  }
 },
 "nbformat": 4,
 "nbformat_minor": 2
}
