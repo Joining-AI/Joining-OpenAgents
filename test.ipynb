{
 "cells": [
  {
   "cell_type": "code",
   "execution_count": 2,
   "metadata": {},
   "outputs": [],
   "source": [
    "import os\n",
    "import json\n",
    "from dotenv import load_dotenv\n",
    "from LLM_API import AuthenticatedRequestSender\n",
    "from LLM_API import OpenAIService\n",
    "from FileProcess import FileProcessor\n",
    "from Memory import Embedding, LocalMemory\n",
    "from Chat import JoiningChat\n",
    "\n",
    "dotenv_path = os.path.join(os.getcwd(), '.env')\n",
    "root_path = dotenv_path.rstrip('.env')\n",
    "load_dotenv(dotenv_path)\n",
    "\n",
    "service_type='sensetime'\n",
    "\n",
    "if service_type in ['sensetime', None]:\n",
    "    service = AuthenticatedRequestSender()\n",
    "elif service_type == 'openai':\n",
    "    service = OpenAIService()\n",
    "else:\n",
    "    raise ValueError('未知的服务类型')"
   ]
  },
  {
   "cell_type": "code",
   "execution_count": 1,
   "metadata": {},
   "outputs": [
    {
     "name": "stdout",
     "output_type": "stream",
     "text": [
      "{'data': {'id': '6213a9909ff7000', 'choices': [{'message': 'Hello! How can I assist you today?', 'finish_reason': 'stop'}], 'usage': {'prompt_tokens': 4, 'completion_tokens': 10, 'knowledge_tokens': 0, 'total_tokens': 14}, 'plugins': {}}}\n",
      "{'data': {'id': '6213a9e7522d000', 'choices': [{'message': '\"Greeting_and_Assistance_Conversation\"', 'finish_reason': 'stop'}], 'usage': {'prompt_tokens': 34, 'completion_tokens': 15, 'knowledge_tokens': 0, 'total_tokens': 49}, 'plugins': {}}}\n",
      "[系统]: 对话已命名为 '\"Greeting_and_Assistance_Conversation\"' 并保存。\n"
     ]
    },
    {
     "data": {
      "text/plain": [
       "'Hello! How can I assist you today?'"
      ]
     },
     "execution_count": 1,
     "metadata": {},
     "output_type": "execute_result"
    }
   ],
   "source": [
    "import os\n",
    "import json\n",
    "from dotenv import load_dotenv\n",
    "from Chat import JoiningChat\n",
    "\n",
    "dotenv_path = os.path.join(os.getcwd(), '.env')\n",
    "root_path = dotenv_path.rstrip('.env')\n",
    "load_dotenv(dotenv_path)\n",
    "\n",
    "service_type='sensetime'\n",
    "\n",
    "message='Hello world!'\n",
    "\n",
    "joiningchat=JoiningChat(service_type=service_type, dotenv_path=dotenv_path)\n",
    "joiningchat.process_input(message)"
   ]
  }
 ],
 "metadata": {
  "kernelspec": {
   "display_name": "Python 3",
   "language": "python",
   "name": "python3"
  },
  "language_info": {
   "codemirror_mode": {
    "name": "ipython",
    "version": 3
   },
   "file_extension": ".py",
   "mimetype": "text/x-python",
   "name": "python",
   "nbconvert_exporter": "python",
   "pygments_lexer": "ipython3",
   "version": "3.10.11"
  }
 },
 "nbformat": 4,
 "nbformat_minor": 2
}
